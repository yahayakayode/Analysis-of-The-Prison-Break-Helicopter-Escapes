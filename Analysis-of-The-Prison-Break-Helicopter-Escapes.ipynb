{
 "cells": [
  {
   "cell_type": "markdown",
   "metadata": {},
   "source": [
    "# Analysis of The Prison Break Helicopter Escapes"
   ]
  },
  {
   "cell_type": "markdown",
   "metadata": {},
   "source": [
    "### Background \n",
    "There have been multiple prison escapes where an inmate escapes by means of a helicopter. One of the earliest instances was the escape of Joel David Kaplan, nicknamed \"Man Fan\", in August 19, 1971, from the Santa Martha Acatitla in Mexico.<br>\n",
    "\n",
    "**The following questions are to be answered**<br>\n",
    "1: In which year did the most helicopter prison break attempts occur?<br>\n",
    "2: In which countries do the most attempted helicopter prison breaks occur?<br>\n",
    "3: In which countries do helicopter prison breaks have a higher chance of success?<br>\n",
    "4: How does the number of escapees affect the success?<br>\n",
    "5: Which escapees have done it more than once?<br>\n",
    "\n",
    "To answer the above questions, data from this [Wikipedia page](https://en.wikipedia.org/wiki/List_of_helicopter_prison_escapes) was scraped and analyzed. It covers the details of attempted helicopter prison escapes over a period of 50 years (1971-2020)\n"
   ]
  },
  {
   "cell_type": "markdown",
   "metadata": {},
   "source": [
    "**Exploring the dataset**\n",
    "The dataset contains six data fields:<br>\n",
    "\n",
    "1- Date: the date of the attempted prison break<br>\n",
    "2- Prison name: the name of the prison<br>\n",
    "3- Country: where it the prison break happened<br>\n",
    "4- Status: Whether the attempt was successful or not<br>\n",
    "5- Names: of the escapees<br>\n",
    "6- More details: other details of the prison break<br>"
   ]
  },
  {
   "cell_type": "markdown",
   "metadata": {},
   "source": [
    "## Importing the helper function"
   ]
  },
  {
   "cell_type": "code",
   "execution_count": 1,
   "metadata": {},
   "outputs": [],
   "source": [
    "# import the needed helper function\n",
    "from helper import *"
   ]
  },
  {
   "cell_type": "markdown",
   "metadata": {},
   "source": [
    "## Get the needed dataset"
   ]
  },
  {
   "cell_type": "code",
   "execution_count": 2,
   "metadata": {},
   "outputs": [],
   "source": [
    "# get the needed data from the data source\n",
    "url = \"https://en.wikipedia.org/wiki/List_of_helicopter_prison_escapes\"\n",
    "data = data_from_url(url)"
   ]
  },
  {
   "cell_type": "markdown",
   "metadata": {},
   "source": [
    "## Print the first three rows"
   ]
  },
  {
   "cell_type": "code",
   "execution_count": 3,
   "metadata": {},
   "outputs": [
    {
     "name": "stdout",
     "output_type": "stream",
     "text": [
      "['August 19, 1971', 'Santa Martha Acatitla', 'Mexico']\n",
      "['October 31, 1973', 'Mountjoy Jail', 'Ireland']\n",
      "['May 24, 1978', 'United States Penitentiary, Marion', 'United States']\n",
      "['February 27, 1981', 'Fleury-Mérogis, Essonne, Ile de France', 'France']\n",
      "['May 7, 1981', 'Orsainville Prison, Quebec City', 'Canada']\n",
      "['January, 1983', 'Pentridge (HM Prison)', 'Australia']\n",
      "['December 19, 1985', 'Perry Correctional Institution, Pelzer, South Carolina', 'United States']\n",
      "['December 31, 1985', 'Cândido Mendes penitentiary, Ilha Grande, Rio de Janeiro', 'Brazil']\n",
      "['May 26, 1986', 'Prison de la Santé', 'France']\n",
      "['November 5, 1986', 'Federal Correctional Institution, Dublin', 'United States']\n",
      "['November 23, 1986', 'Prigione di Rebibbia, Roma', 'Italy']\n",
      "['December 10, 1987', 'Gartree (HM Prison)', 'United Kingdom']\n",
      "['July 11, 1988', 'Santa Fe prison', 'United States']\n",
      "['April 17, 1989', 'Federal Holding Facility, Miami, FL', 'United States']\n",
      "['August 19, 1989', 'Arkansas Valley Correctional Facility', 'United States']\n",
      "['June 19, 1990', 'Kent Penitentiary, British Columbia', 'Canada']\n",
      "['1991', 'Rio Piedras State Penitentiary, Puerto Rico', 'Puerto Rico']\n",
      "['1992', 'Lyon Prison', 'France']\n",
      "['December 1992', 'Touraine Central Prison, Tours', 'France']\n",
      "['June 17, 1993', 'Touraine Central Prison, Tours', 'France']\n",
      "['December 30, 1996', 'High Security Prison, Santiago', 'Chile']\n",
      "['September 18, 1997', 'De Geerhorst jail', 'Netherlands']\n",
      "['March 25, 1999', 'Metropolitan Remand and Reception Centre', 'Australia']\n",
      "['June 5, 2000', 'Martin Treatment Center for Sexually Violent Predators, Martin County Florida', 'United States']\n",
      "['2000', 'Lyon prison', 'France']\n",
      "['2001', 'Luynes prison', 'France']\n",
      "['March 24, 2001', 'Draguignan prison', 'France']\n",
      "['May 28, 2001', 'Fresnes prison', 'France']\n",
      "['January 17, 2002', 'Parada Neto Penitentiary', 'Brazil']\n",
      "['December 30, 2002', 'Las Cucharas prison, Puerto Rico', 'United States']\n",
      "['2003', 'Luynes prison', 'France']\n",
      "['July 2005', 'France', 'France']\n",
      "['December 10, 2005', 'Aiton Prison', 'France']\n",
      "['June 6, 2006', 'Korydallos Prison', 'Greece']\n",
      "['April 15, 2007', 'Lantin Prison, Liège', 'Belgium']\n",
      "['July 15, 2007', 'Grasse prison', 'France']\n",
      "['October 28, 2007', 'Ittre prison', 'Belgium']\n",
      "['February 22, 2009', 'Korydallos Prison', 'Greece']\n",
      "['April 27, 2009', 'Domenjod Prison, Réunion', 'France']\n",
      "['July 23, 2009', 'Bruges', 'Belgium']\n",
      "['June 25, 2010', 'HM Prison Isle of Wight, Isle of Wight', 'United Kingdom']\n",
      "['March 22, 2012', 'Sheksna, Penal colony N17', 'Russia']\n",
      "['February 24, 2013', 'Trikala Prison, Trikala', 'Greece']\n",
      "['March 17, 2013', 'Saint-Jérôme Detention Facility, Quebec', 'Canada']\n",
      "['June 7, 2014', 'Orsainville Detention Facility, Quebec', 'Canada']\n",
      "['February 22, 2016', 'Thiva', 'Greece']\n",
      "['July 1, 2018', 'Réau, near Paris', 'France']\n",
      "['September 25, 2020', 'Forest prison, Brussels', 'Belgium']\n"
     ]
    }
   ],
   "source": [
    "# Loop through the data to print the first 3 records\n",
    "for row in data:\n",
    "    print(row[:3])"
   ]
  },
  {
   "cell_type": "markdown",
   "metadata": {},
   "source": [
    "## Removing the details column\n",
    "\n",
    "Initialize an index variable with the value of 0. The purpose of this variable is to help track which row is beign modifying."
   ]
  },
  {
   "cell_type": "code",
   "execution_count": 4,
   "metadata": {},
   "outputs": [],
   "source": [
    "# Remove the details Column as it not needed in the analysis \n",
    "index = 0\n",
    "for row in data:\n",
    "    data[index] = row[:-1]\n",
    "    index += 1"
   ]
  },
  {
   "cell_type": "code",
   "execution_count": 5,
   "metadata": {},
   "outputs": [
    {
     "name": "stdout",
     "output_type": "stream",
     "text": [
      "['September 25, 2020', 'Forest prison, Brussels', 'Belgium']\n"
     ]
    }
   ],
   "source": [
    "print(row[:3])"
   ]
  },
  {
   "cell_type": "markdown",
   "metadata": {},
   "source": [
    "### Extracting the Year\n",
    "In the code cell below, we iterate over data using the iterable variable row:\n",
    "\n",
    "* With every occurrence of `row[0]`, we refer to the first entry of `row`, i.e., the date.\n",
    "* Thus, with `date = fetch_year(row[0])`, we're extracting the year out of the date in `row[0]` and assiging it to the variable `date`.\n",
    "* We then replace the value of `row[0]` with the year that we just extracted."
   ]
  },
  {
   "cell_type": "code",
   "execution_count": 6,
   "metadata": {},
   "outputs": [],
   "source": [
    "# Since we don’t  need the month and day, thus, extract the year\n",
    "for row in data:\n",
    "    (row[0]) = fetch_year(row[0])"
   ]
  },
  {
   "cell_type": "code",
   "execution_count": 7,
   "metadata": {},
   "outputs": [
    {
     "name": "stdout",
     "output_type": "stream",
     "text": [
      "[2020, 'Forest prison, Brussels', 'Belgium', 'No', 'Kristel A.']\n"
     ]
    }
   ],
   "source": [
    "# Print to confirm that the year has been extracted\n",
    "print(row)"
   ]
  },
  {
   "cell_type": "markdown",
   "metadata": {},
   "source": [
    "### Number of attempted prison break per year"
   ]
  },
  {
   "cell_type": "code",
   "execution_count": 8,
   "metadata": {},
   "outputs": [],
   "source": [
    "min_year = min(data, key=lambda x: x[0])[0]\n",
    "max_year = max(data, key=lambda x: x[0])[0]"
   ]
  },
  {
   "cell_type": "markdown",
   "metadata": {},
   "source": [
    "Check the earliest and latest dates in dataset."
   ]
  },
  {
   "cell_type": "code",
   "execution_count": 9,
   "metadata": {},
   "outputs": [
    {
     "name": "stdout",
     "output_type": "stream",
     "text": [
      "1971\n",
      "2020\n"
     ]
    }
   ],
   "source": [
    "print(min_year) # the minimum year\n",
    "print(max_year)  # the maximum year"
   ]
  },
  {
   "cell_type": "markdown",
   "metadata": {},
   "source": [
    "Now we'll create a list of all the years ranging from min_year to max_year. Our goal is to then determine how many prison break attempts were there for each year. Since years in which there weren't any prison breaks aren't present in the dataset, this will make sure we capture them."
   ]
  },
  {
   "cell_type": "code",
   "execution_count": 10,
   "metadata": {},
   "outputs": [],
   "source": [
    "years = []\n",
    "for y in range(min_year, max_year + 1):\n",
    "    years.append(y)"
   ]
  },
  {
   "cell_type": "markdown",
   "metadata": {},
   "source": [
    "Check the `years` to see if it gives what we want"
   ]
  },
  {
   "cell_type": "code",
   "execution_count": 11,
   "metadata": {},
   "outputs": [
    {
     "name": "stdout",
     "output_type": "stream",
     "text": [
      "[1971, 1972, 1973, 1974, 1975, 1976, 1977, 1978, 1979, 1980, 1981, 1982, 1983, 1984, 1985, 1986, 1987, 1988, 1989, 1990, 1991, 1992, 1993, 1994, 1995, 1996, 1997, 1998, 1999, 2000, 2001, 2002, 2003, 2004, 2005, 2006, 2007, 2008, 2009, 2010, 2011, 2012, 2013, 2014, 2015, 2016, 2017, 2018, 2019, 2020]\n"
     ]
    }
   ],
   "source": [
    "print(years)"
   ]
  },
  {
   "cell_type": "markdown",
   "metadata": {},
   "source": [
    "The years look as expected "
   ]
  },
  {
   "cell_type": "markdown",
   "metadata": {},
   "source": [
    "Now create a list where each element looks like `[<year>, 0]`."
   ]
  },
  {
   "cell_type": "code",
   "execution_count": 12,
   "metadata": {},
   "outputs": [],
   "source": [
    "attempts_per_year = []\n",
    "for y in years:\n",
    "    attempts_per_year.append([y, 0])"
   ]
  },
  {
   "cell_type": "code",
   "execution_count": 13,
   "metadata": {},
   "outputs": [
    {
     "name": "stdout",
     "output_type": "stream",
     "text": [
      "[[1971, 1], [1972, 0], [1973, 1], [1974, 0], [1975, 0], [1976, 0], [1977, 0], [1978, 1], [1979, 0], [1980, 0], [1981, 2], [1982, 0], [1983, 1], [1984, 0], [1985, 2], [1986, 3], [1987, 1], [1988, 1], [1989, 2], [1990, 1], [1991, 1], [1992, 2], [1993, 1], [1994, 0], [1995, 0], [1996, 1], [1997, 1], [1998, 0], [1999, 1], [2000, 2], [2001, 3], [2002, 2], [2003, 1], [2004, 0], [2005, 2], [2006, 1], [2007, 3], [2008, 0], [2009, 3], [2010, 1], [2011, 0], [2012, 1], [2013, 2], [2014, 1], [2015, 0], [2016, 1], [2017, 0], [2018, 1], [2019, 0], [2020, 1]]\n"
     ]
    }
   ],
   "source": [
    "for row in data:\n",
    "    for ya in attempts_per_year:\n",
    "        y = ya[0]\n",
    "        if row[0] == y:\n",
    "            ya[1] += 1\n",
    "            \n",
    "print(attempts_per_year)"
   ]
  },
  {
   "cell_type": "markdown",
   "metadata": {},
   "source": [
    "### Visualize the number of attempts per year"
   ]
  },
  {
   "cell_type": "code",
   "execution_count": 14,
   "metadata": {},
   "outputs": [],
   "source": [
    "%matplotlib inline"
   ]
  },
  {
   "cell_type": "code",
   "execution_count": 15,
   "metadata": {},
   "outputs": [
    {
     "data": {
      "image/png": "[encoded data removed]",
      "text/plain": [
       "<Figure size 648x1080 with 1 Axes>"
      ]
     },
     "metadata": {
      "needs_background": "light"
     },
     "output_type": "display_data"
    }
   ],
   "source": [
    "barplot(attempts_per_year)"
   ]
  },
  {
   "cell_type": "markdown",
   "metadata": {},
   "source": [
    "The years in which the most helicopter prison break attempts occurred were 1986, 2001, 2007 and 2009, with a total of three attempts each."
   ]
  },
  {
   "cell_type": "code",
   "execution_count": 16,
   "metadata": {},
   "outputs": [
    {
     "data": {
      "text/html": [
       "<table border=\"1\" class=\"dataframe\">\n",
       "  <thead>\n",
       "    <tr style=\"text-align: right;\">\n",
       "      <th>Country</th>\n",
       "      <th>Number of Occurrences</th>\n",
       "    </tr>\n",
       "  </thead>\n",
       "  <tbody>\n",
       "    <tr>\n",
       "      <td>France</td>\n",
       "      <td>15</td>\n",
       "    </tr>\n",
       "    <tr>\n",
       "      <td>United States</td>\n",
       "      <td>8</td>\n",
       "    </tr>\n",
       "    <tr>\n",
       "      <td>Canada</td>\n",
       "      <td>4</td>\n",
       "    </tr>\n",
       "    <tr>\n",
       "      <td>Greece</td>\n",
       "      <td>4</td>\n",
       "    </tr>\n",
       "    <tr>\n",
       "      <td>Belgium</td>\n",
       "      <td>4</td>\n",
       "    </tr>\n",
       "    <tr>\n",
       "      <td>Australia</td>\n",
       "      <td>2</td>\n",
       "    </tr>\n",
       "    <tr>\n",
       "      <td>Brazil</td>\n",
       "      <td>2</td>\n",
       "    </tr>\n",
       "    <tr>\n",
       "      <td>United Kingdom</td>\n",
       "      <td>2</td>\n",
       "    </tr>\n",
       "    <tr>\n",
       "      <td>Mexico</td>\n",
       "      <td>1</td>\n",
       "    </tr>\n",
       "    <tr>\n",
       "      <td>Ireland</td>\n",
       "      <td>1</td>\n",
       "    </tr>\n",
       "    <tr>\n",
       "      <td>Italy</td>\n",
       "      <td>1</td>\n",
       "    </tr>\n",
       "    <tr>\n",
       "      <td>Puerto Rico</td>\n",
       "      <td>1</td>\n",
       "    </tr>\n",
       "    <tr>\n",
       "      <td>Chile</td>\n",
       "      <td>1</td>\n",
       "    </tr>\n",
       "    <tr>\n",
       "      <td>Netherlands</td>\n",
       "      <td>1</td>\n",
       "    </tr>\n",
       "    <tr>\n",
       "      <td>Russia</td>\n",
       "      <td>1</td>\n",
       "    </tr>\n",
       "  </tbody>\n",
       "</table>"
      ],
      "text/plain": [
       "<IPython.core.display.HTML object>"
      ]
     },
     "metadata": {},
     "output_type": "display_data"
    }
   ],
   "source": [
    "frequency_by_countries = df[\"Country\"].value_counts()\n",
    "print_pretty_table(frequency_by_countries)"
   ]
  },
  {
   "cell_type": "markdown",
   "metadata": {},
   "source": [
    "### Visualize the number of occurence of attempted helicopter prison escapes per country"
   ]
  },
  {
   "cell_type": "code",
   "execution_count": 17,
   "metadata": {},
   "outputs": [
    {
     "data": {
      "text/plain": [
       "<AxesSubplot:title={'center':'Prison Breaks per Country'}>"
      ]
     },
     "execution_count": 17,
     "metadata": {},
     "output_type": "execute_result"
    },
    {
     "data": {
      "image/png": "[encoded data removed]",
      "text/plain": [
       "<Figure size 864x432 with 1 Axes>"
      ]
     },
     "metadata": {
      "needs_background": "light"
     },
     "output_type": "display_data"
    }
   ],
   "source": [
    "df['Country'].value_counts().plot(kind='bar' , x = 'Country',y = 'No. of Escapes',title = 'Prison Breaks per Country',figsize = (12,6))"
   ]
  },
  {
   "cell_type": "markdown",
   "metadata": {},
   "source": [
    "France has the highest number attempted helicopter prison escapes, follow by United States"
   ]
  },
  {
   "cell_type": "markdown",
   "metadata": {},
   "source": [
    "### Number of successful and unsuccessful  attempts of helicopter prision escapes "
   ]
  },
  {
   "cell_type": "code",
   "execution_count": 18,
   "metadata": {},
   "outputs": [
    {
     "data": {
      "text/html": [
       "<div>\n",
       "<style scoped>\n",
       "    .dataframe tbody tr th:only-of-type {\n",
       "        vertical-align: middle;\n",
       "    }\n",
       "\n",
       "    .dataframe tbody tr th {\n",
       "        vertical-align: top;\n",
       "    }\n",
       "\n",
       "    .dataframe thead th {\n",
       "        text-align: right;\n",
       "    }\n",
       "</style>\n",
       "<table border=\"1\" class=\"dataframe\">\n",
       "  <thead>\n",
       "    <tr style=\"text-align: right;\">\n",
       "      <th></th>\n",
       "      <th>Succeeded</th>\n",
       "      <th>Counts</th>\n",
       "    </tr>\n",
       "  </thead>\n",
       "  <tbody>\n",
       "    <tr>\n",
       "      <th>0</th>\n",
       "      <td>Yes</td>\n",
       "      <td>34</td>\n",
       "    </tr>\n",
       "    <tr>\n",
       "      <th>1</th>\n",
       "      <td>No</td>\n",
       "      <td>14</td>\n",
       "    </tr>\n",
       "  </tbody>\n",
       "</table>\n",
       "</div>"
      ],
      "text/plain": [
       "  Succeeded  Counts\n",
       "0       Yes      34\n",
       "1        No      14"
      ]
     },
     "execution_count": 18,
     "metadata": {},
     "output_type": "execute_result"
    }
   ],
   "source": [
    "# Counting the number of successful and failed attempts\n",
    "success_count = df.pivot_table(index =\"Succeeded\", values = \"Country\", aggfunc = \"count\")\n",
    "\n",
    "success_count.columns = [\"Counts\"]\n",
    "success_count.sort_index(inplace = True, ascending = False)\n",
    "success_count.reset_index()"
   ]
  },
  {
   "cell_type": "code",
   "execution_count": 19,
   "metadata": {},
   "outputs": [
    {
     "data": {
      "text/plain": [
       "Text(0.5, 1.0, 'Percentages of Successful and Unsuccessful Helicopter Prison Breaks')"
      ]
     },
     "execution_count": 19,
     "metadata": {},
     "output_type": "execute_result"
    },
    {
     "data": {
      "image/png": "[encoded data removed]",
      "text/plain": [
       "<Figure size 432x288 with 1 Axes>"
      ]
     },
     "metadata": {},
     "output_type": "display_data"
    }
   ],
   "source": [
    "plt.pie(data =success_count, x =\"Counts\", labels = (\"Successful\", \"Not Successful\"), autopct='%1.f%%')\n",
    "plt.title(\"Percentages of Successful and Unsuccessful Helicopter Prison Breaks\")"
   ]
  },
  {
   "cell_type": "markdown",
   "metadata": {},
   "source": [
    "As depicted in the chart above, 71% (34) of the helicopter prison breaks recorded to be successful and the prisoners were able to escape with the helicopter, while 29% were recorded to be unsuccessful."
   ]
  },
  {
   "cell_type": "markdown",
   "metadata": {},
   "source": [
    "## Conclusion\n",
    "**This project analysed the data of helicopter prison escapes from the year 1971 - 2020.**<br>\n",
    "1: It can be deduced that the year 1986, 2001, 2007 and 2009 has the highest number of helicopter prison escapes with a total of three attempts each.<br>\n",
    "2: France has the highest number attempted helicopter prison escapes with 15 attempts, follow by United States with 8 attempts<br>\n",
    "3: The helicopter prison breaks have a higher chance of success in France<br> \n",
    "4: 71% (34) of the helicopter prison breaks recorded to be successful and the prisoners were able to escape with the helicopter, while 29% were recorded to be unsuccessful.<br>\n",
    "\n",
    "Thank you for reading and feel free to let me know your observations, corrections or suggestions.\n"
   ]
  }
 ],
 "metadata": {
  "kernelspec": {
   "display_name": "Python 3.9.7 ('base')",
   "language": "python",
   "name": "python3"
  },
  "language_info": {
   "codemirror_mode": {
    "name": "ipython",
    "version": 3
   },
   "file_extension": ".py",
   "mimetype": "text/x-python",
   "name": "python",
   "nbconvert_exporter": "python",
   "pygments_lexer": "ipython3",
   "version": "3.9.7"
  },
  "vscode": {
   "interpreter": {
    "hash": "840c2190d5dedbb670fb86416bef71e82803306c14fbb5afee72719161991e78"
   }
  }
 },
 "nbformat": 4,
 "nbformat_minor": 2
}
